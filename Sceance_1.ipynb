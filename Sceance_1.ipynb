{
 "cells": [
  {
   "cell_type": "markdown",
   "metadata": {},
   "source": [
    "##Exerices\n",
    "Ouvrir un nouveau notebook et l'enregistrer sur GitHub.\n",
    "###Ex 1: Cone\n",
    "Écrire un programme qui, à partir de la saisie d'un rayon et d'une hauteur, calcule le volume d'un cône droit.\n",
    "\n",
    "###Ex 2: Somme des cubes\n",
    "1. Pour un entier **n** fixé, programmer le calcul de la somme S<sub>n</sub>=1<sup>3</sup>+2<sup>3</sup>+3<sup>3</sup>+···+n<sup>3</sup>\n",
    "2. Définir un programme qui pour une valeur **n** calcul la somme Σ<sub>n</sub>=1+2+3+···+n.\n",
    "\n",
    "###Ex 3 : manipulation des variables :\n",
    "1. Combien y-a-t-il d’occurrences du chiffre1 dans les nombres de1 à 999? Par exemple le chiffre1 apparaît unefois dans 51 mais deux fois dans 131\n",
    "2. Écrire une fonction qui calcule l’écriture décimale d’un entier, sans recourir au log\n",
    "\n",
    "\n",
    "###Ex 4 : Aproximation de Pi\n",
    "Il est possible de calculer les premières décimales deπpar la méthode de Monte-Carlo, c’est à direavec l’aide du hasard.\n",
    "Soit la figure suivante :\n",
    "Si le carré rouge faite 1 de coté et le disque bleu 1 de rayon, comment pouvez vous determiner une approxiamtion de π ?\n",
    "\n",
    "![image.png](data:image/png;base64,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)\n"
   ]
  },
  {
   "cell_type": "code",
   "execution_count": 23,
   "metadata": {},
   "outputs": [
    {
     "name": "stdout",
     "output_type": "stream",
     "text": [
      "saisir le rayon4\n",
      "saisir la hauteur2\n",
      "le volume du cone droit est = 33.510321638291124 au cube\n"
     ]
    }
   ],
   "source": [
    "import math \n",
    "from math import *\n",
    "\n",
    "rayon = int(input(\"saisir le rayon\"))\n",
    "\n",
    "hauteur = int(input(\"saisir la hauteur\"))\n",
    "\n",
    "volume = (pi/3)*((rayon**2) * hauteur)\n",
    "\n",
    "print(f\"le volume du cone droit est = {volume} au cube\")"
   ]
  },
  {
   "cell_type": "code",
   "execution_count": 36,
   "metadata": {},
   "outputs": [
    {
     "name": "stdout",
     "output_type": "stream",
     "text": [
      "somme finale = 36\n"
     ]
    }
   ],
   "source": [
    "n = 4\n",
    "somme = 0\n",
    "for n in range(1,n):\n",
    "    somme = somme + n**3\n",
    "    #print(somme)\n",
    "print(f\"somme finale = {somme}\")"
   ]
  },
  {
   "cell_type": "code",
   "execution_count": 38,
   "metadata": {},
   "outputs": [
    {
     "name": "stdout",
     "output_type": "stream",
     "text": [
      "somme finale = 6\n"
     ]
    }
   ],
   "source": [
    "n = 4\n",
    "somme = 0\n",
    "for n in range(1,n):\n",
    "    somme = somme + n\n",
    "    #print(somme)\n",
    "print(f\"somme finale = {somme}\")"
   ]
  },
  {
   "cell_type": "code",
   "execution_count": 42,
   "metadata": {},
   "outputs": [],
   "source": [
    "nombre = 2\n",
    "\n",
    "def decimal(nombre):\n",
    "    float.nombre = nombre"
   ]
  },
  {
   "cell_type": "code",
   "execution_count": 44,
   "metadata": {},
   "outputs": [
    {
     "ename": "TypeError",
     "evalue": "can't set attributes of built-in/extension type 'float'",
     "output_type": "error",
     "traceback": [
      "\u001b[1;31m---------------------------------------------------------------------------\u001b[0m",
      "\u001b[1;31mTypeError\u001b[0m                                 Traceback (most recent call last)",
      "\u001b[1;32m<ipython-input-44-37d1d81979c1>\u001b[0m in \u001b[0;36m<module>\u001b[1;34m\u001b[0m\n\u001b[1;32m----> 1\u001b[1;33m \u001b[0mdecimal\u001b[0m\u001b[1;33m(\u001b[0m\u001b[0mnombre\u001b[0m\u001b[1;33m)\u001b[0m\u001b[1;33m\u001b[0m\u001b[1;33m\u001b[0m\u001b[0m\n\u001b[0m",
      "\u001b[1;32m<ipython-input-42-3a565592c5d9>\u001b[0m in \u001b[0;36mdecimal\u001b[1;34m(nombre)\u001b[0m\n\u001b[0;32m      2\u001b[0m \u001b[1;33m\u001b[0m\u001b[0m\n\u001b[0;32m      3\u001b[0m \u001b[1;32mdef\u001b[0m \u001b[0mdecimal\u001b[0m\u001b[1;33m(\u001b[0m\u001b[0mnombre\u001b[0m\u001b[1;33m)\u001b[0m\u001b[1;33m:\u001b[0m\u001b[1;33m\u001b[0m\u001b[1;33m\u001b[0m\u001b[0m\n\u001b[1;32m----> 4\u001b[1;33m     \u001b[0mfloat\u001b[0m\u001b[1;33m.\u001b[0m\u001b[0mnombre\u001b[0m \u001b[1;33m=\u001b[0m \u001b[0mnombre\u001b[0m\u001b[1;33m\u001b[0m\u001b[1;33m\u001b[0m\u001b[0m\n\u001b[0m",
      "\u001b[1;31mTypeError\u001b[0m: can't set attributes of built-in/extension type 'float'"
     ]
    }
   ],
   "source": [
    "decimal(nombre)"
   ]
  },
  {
   "cell_type": "code",
   "execution_count": null,
   "metadata": {},
   "outputs": [],
   "source": []
  }
 ],
 "metadata": {
  "kernelspec": {
   "display_name": "Python 3",
   "language": "python",
   "name": "python3"
  },
  "language_info": {
   "codemirror_mode": {
    "name": "ipython",
    "version": 3
   },
   "file_extension": ".py",
   "mimetype": "text/x-python",
   "name": "python",
   "nbconvert_exporter": "python",
   "pygments_lexer": "ipython3",
   "version": "3.7.6"
  }
 },
 "nbformat": 4,
 "nbformat_minor": 4
}
